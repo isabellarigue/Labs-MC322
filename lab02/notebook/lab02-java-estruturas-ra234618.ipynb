{
 "cells": [
  {
   "cell_type": "markdown",
   "metadata": {},
   "source": [
    "# Laboratório em Estruturas de Programação Java\n",
    "\n",
    "O laboratório a seguir serve para praticar estruturas de programação Java sem compromisso com a orientação a objetos."
   ]
  },
  {
   "cell_type": "markdown",
   "metadata": {},
   "source": [
    "## Desafio 1 - Empréstimo\n",
    "\n",
    "Em um financiamento com juros compostos e número de parcelas fixas parte-se dos seguintes parâmetros:\n",
    "* `S` - valor da primeira parcela\n",
    "* `N` - número de parcelas\n",
    "* `J` - percentual de juros mensal\n",
    "\n",
    "A primeira parcela a ser paga do financiamento é sempre igual a `S`. A partir daí é feita uma atualização mensal da parcela, em que cada nova parcela é calculada a partir da parcela do mês anterior, conforme a fórmula:\n",
    "\n",
    "> Parcela<sub>mês</sub> = Parcela<sub>mês-1</sub> * (1 + `J` / 100)\n",
    "\n",
    "O financiamento encerra quando as `N` parcelas são pagas.\n",
    "\n",
    "Exemplo:\n",
    "* `S`: 200\n",
    "* `N`: 5\n",
    "* `J`: 1%\n",
    "\n",
    "Parcelas do financiamento:\n",
    "`200`; `202`; `204.02`; `206.06`; `208.12`"
   ]
  },
  {
   "cell_type": "markdown",
   "metadata": {},
   "source": [
    "### Desafio 1 / Parte 1 - Escrevendo o programa sem módulos\n",
    "\n",
    "Dado o problema descrito, escreva um programa que calcule as parcelas de um empréstimo para os seguintes valores:\n",
    "* S: 200\n",
    "* N: 5\n",
    "* J: 1%\n",
    "\n",
    "Nesta versão não use outro módulo além da função principal."
   ]
  },
  {
   "cell_type": "code",
   "execution_count": 1,
   "metadata": {},
   "outputs": [
    {
     "name": "stdout",
     "output_type": "stream",
     "text": [
      "Parcela 1 eh 200.00\n",
      "Parcela 2 eh 202.00\n",
      "Parcela 3 eh 204.02\n",
      "Parcela 4 eh 206.06\n",
      "Parcela 5 eh 208.12\n"
     ]
    },
    {
     "data": {
      "text/plain": [
       "null"
      ]
     },
     "execution_count": 1,
     "metadata": {},
     "output_type": "execute_result"
    }
   ],
   "source": [
    "float S = 200;\n",
    "int N = 5;\n",
    "float J = 1;\n",
    "float parcela = S;\n",
    "\n",
    "for(int i = 1; i <= N; i++) {\n",
    "    System.out.printf(\"Parcela %d eh %.2f\\n\", i, parcela);\n",
    "    parcela = parcela * (1 + J/100);\n",
    "}"
   ]
  },
  {
   "cell_type": "markdown",
   "metadata": {},
   "source": [
    "### Desafio 1 / Parte 2 - Escrevendo módulos\n",
    "\n",
    "Reescreva o código acima de forma que seu programa faça uso de uma função que seja responsável pelo cálculo de uma parcela X do empréstimo. Podem ser usadas mais funções (métodos) conforme a necessidade."
   ]
  },
  {
   "cell_type": "code",
   "execution_count": 2,
   "metadata": {},
   "outputs": [
    {
     "data": {
      "text/plain": [
       "com.twosigma.beaker.javash.bkrd0676160.CalculaParcela"
      ]
     },
     "execution_count": 2,
     "metadata": {},
     "output_type": "execute_result"
    }
   ],
   "source": [
    "public class CalculaParcela {\n",
    "    public static float ProximaParcela(float parcela, float J) {\n",
    "        return parcela * (1 + J/100);\n",
    "    } \n",
    "}"
   ]
  },
  {
   "cell_type": "code",
   "execution_count": 4,
   "metadata": {},
   "outputs": [
    {
     "name": "stdout",
     "output_type": "stream",
     "text": [
      "Parcela 1 eh 200.00\n",
      "Parcela 2 eh 202.00\n",
      "Parcela 3 eh 204.02\n",
      "Parcela 4 eh 206.06\n",
      "Parcela 5 eh 208.12\n"
     ]
    },
    {
     "data": {
      "text/plain": [
       "null"
      ]
     },
     "execution_count": 4,
     "metadata": {},
     "output_type": "execute_result"
    }
   ],
   "source": [
    "float S = 200;\n",
    "int N = 5;\n",
    "float J = 1;\n",
    "float parcela = S;\n",
    "\n",
    "for(int i = 1; i <= N; i++) {\n",
    "    System.out.printf(\"Parcela %d eh %.2f\\n\", i, parcela);\n",
    "    parcela = CalculaParcela.ProximaParcela(parcela, J);\n",
    "}"
   ]
  },
  {
   "cell_type": "markdown",
   "metadata": {},
   "source": [
    "## Desafio 2\n",
    "\n",
    "Escreva um programa que sorteie um número inteiro entre `0` e `9999` o número deve ser mostrado, em seguida convertido para binário e a versão binária deve ser apresentada no console. A conversão decimal/binário deve ser computada por um programa feito por você."
   ]
  },
  {
   "cell_type": "code",
   "execution_count": 5,
   "metadata": {},
   "outputs": [
    {
     "data": {
      "text/plain": [
       "com.twosigma.beaker.javash.bkrd0676160.Binario"
      ]
     },
     "execution_count": 5,
     "metadata": {},
     "output_type": "execute_result"
    }
   ],
   "source": [
    "public class Binario {\n",
    "    public static String ConverteDecimal(int num) {\n",
    "        int resto, k;\n",
    "        String binario = \"\", binario_invertido = \"\";\n",
    "        while(num > 0) {\n",
    "            resto = num % 2;\n",
    "            num /= 2;\n",
    "            binario_invertido += resto;\n",
    "        }\n",
    "        k = binario_invertido.length() - 1;\n",
    "        while(k >= 0) {\n",
    "            binario += binario_invertido.charAt(k);\n",
    "            k--;\n",
    "        }\n",
    "        return binario;\n",
    "    } \n",
    "}"
   ]
  },
  {
   "cell_type": "code",
   "execution_count": 6,
   "metadata": {},
   "outputs": [
    {
     "name": "stdout",
     "output_type": "stream",
     "text": [
      "Numero sorteado em decimal: 2472\n",
      "Numero convertido para binario: 100110101000\n"
     ]
    },
    {
     "data": {
      "text/plain": [
       "null"
      ]
     },
     "execution_count": 6,
     "metadata": {},
     "output_type": "execute_result"
    }
   ],
   "source": [
    "import java.util.Random;\n",
    "\n",
    "Random rand = new Random();\n",
    "int num = rand.nextInt(9999);\n",
    "String binario = Binario.ConverteDecimal(num);\n",
    "\n",
    "System.out.println(\"Numero sorteado em decimal: \" + num);\n",
    "System.out.println(\"Numero convertido para binario: \" + binario);"
   ]
  },
  {
   "cell_type": "markdown",
   "metadata": {},
   "source": [
    "## Desafio 3\n",
    "\n",
    "Uma molécula de DNA pode ser definida a partir de uma cadeia que representa a sequência de suas bases:\n",
    "A - Adenina\n",
    "C - Citisina\n",
    "G - Guanina\n",
    "T - Tinina\n",
    "\n",
    "Desse modo, uma string pode ser usada para representar um segmento do DNA da seguinte maneira: `ATTACGCGCAAAC`.\n",
    "\n",
    "Escreva uma função (método) que codifique a cadeia de RNA produzida a partir de uma cadeia de DNA. A função deve ser genérica o suficiente para ser aplicável a qualquer cadeia. A entrada é uma string (DNA) e o retorno é uma string (RNA).\n",
    "\n",
    "Escreva um programa que teste esta função com uma cadeia de DNA de sua escolha."
   ]
  },
  {
   "cell_type": "code",
   "execution_count": 7,
   "metadata": {},
   "outputs": [
    {
     "data": {
      "text/plain": [
       "com.twosigma.beaker.javash.bkrd0676160.Molecula"
      ]
     },
     "execution_count": 7,
     "metadata": {},
     "output_type": "execute_result"
    }
   ],
   "source": [
    "public class Molecula {\n",
    "    public static String ConverteDNA(String dna) {\n",
    "        String rna = \"\";\n",
    "        for(int i = 0; i < dna.length(); i++) {\n",
    "              switch (dna.charAt(i)) {\n",
    "                  case 'A' : rna += 'U'; break;\n",
    "                  case 'T' : rna += 'A'; break;\n",
    "                  case 'C' : rna += 'G'; break;\n",
    "                  case 'G' : rna += 'C'; break;\n",
    "                  default: System.out.println(\"invalido\");\n",
    "              }  \n",
    "        }\n",
    "        return rna;\n",
    "    } \n",
    "}"
   ]
  },
  {
   "cell_type": "code",
   "execution_count": 8,
   "metadata": {},
   "outputs": [
    {
     "name": "stdout",
     "output_type": "stream",
     "text": [
      "Molecula DNA: ATTACGCGCAAAC\n",
      "Molecula RNA: UAAUGCGCGUUUG\n"
     ]
    },
    {
     "data": {
      "text/plain": [
       "null"
      ]
     },
     "execution_count": 8,
     "metadata": {},
     "output_type": "execute_result"
    }
   ],
   "source": [
    "String DNA = \"ATTACGCGCAAAC\";\n",
    "String RNA = Molecula.ConverteDNA(DNA);\n",
    "\n",
    "System.out.println(\"Molecula DNA: \" + DNA);\n",
    "System.out.println(\"Molecula RNA: \" + RNA);"
   ]
  },
  {
   "cell_type": "markdown",
   "metadata": {},
   "source": [
    "## Desafio 4\n",
    "\n",
    "Uma empresa precisa realizar uma estatística do salário de seus funcionários.\n",
    "\n",
    "Para fins de teste, os salários devem ser gerados aleatoriamente com valores variando entre R\\\\$ 2.500 e R\\\\$ 15.000.\n",
    "\n",
    "Escreva um programa que gere uma lista contendo os salários de 50 funcionários da empresa e mostre no console quantos funcionários ganham salário acima da média."
   ]
  },
  {
   "cell_type": "code",
   "execution_count": 9,
   "metadata": {},
   "outputs": [
    {
     "name": "stdout",
     "output_type": "stream",
     "text": [
      "26\n"
     ]
    },
    {
     "data": {
      "text/plain": [
       "null"
      ]
     },
     "execution_count": 9,
     "metadata": {},
     "output_type": "execute_result"
    }
   ],
   "source": [
    "import java.util.Random;\n",
    "\n",
    "Random rand = new Random();\n",
    "int salarios[] = new int[50], i, salario, total=0, qtd=0;\n",
    "float media;\n",
    "\n",
    "for(i = 0; i < 50; i++) {\n",
    "    salario = rand.nextInt(12500) + 2500;\n",
    "    salarios[i] = salario;\n",
    "    total += salario;\n",
    "}\n",
    "\n",
    "media = total/50;\n",
    "for(i = 0; i < 50; i++) \n",
    "    if(salarios[i] > media)\n",
    "        qtd += 1;\n",
    "\n",
    "System.out.println(qtd);"
   ]
  }
 ],
 "metadata": {
  "kernelspec": {
   "display_name": "Java",
   "language": "java",
   "name": "java"
  },
  "language_info": {
   "codemirror_mode": "text/x-java",
   "file_extension": ".java",
   "mimetype": "",
   "name": "Java",
   "nbconverter_exporter": "",
   "version": "1.8.0_121"
  },
  "toc": {
   "base_numbering": 1,
   "nav_menu": {},
   "number_sections": false,
   "sideBar": false,
   "skip_h1_title": false,
   "title_cell": "Table of Contents",
   "title_sidebar": "Contents",
   "toc_cell": false,
   "toc_position": {},
   "toc_section_display": false,
   "toc_window_display": false
  }
 },
 "nbformat": 4,
 "nbformat_minor": 4
}
